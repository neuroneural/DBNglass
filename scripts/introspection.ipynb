{
 "cells": [
  {
   "attachments": {},
   "cell_type": "markdown",
   "metadata": {},
   "source": [
    "# Model and data load"
   ]
  },
  {
   "cell_type": "code",
   "execution_count": 1,
   "metadata": {},
   "outputs": [
    {
     "data": {
      "text/plain": [
       "'/Users/pavelpopov/mlp_nn'"
      ]
     },
     "execution_count": 1,
     "metadata": {},
     "output_type": "execute_result"
    }
   ],
   "source": [
    "import os\n",
    "os.chdir('..')\n",
    "os.getcwd()"
   ]
  },
  {
   "cell_type": "code",
   "execution_count": 83,
   "metadata": {},
   "outputs": [],
   "source": [
    "from omegaconf import OmegaConf, DictConfig\n",
    "import torch\n",
    "import pandas as pd\n",
    "\n",
    "from captum.attr import IntegratedGradients, NoiseTunnel, Saliency, visualization as viz\n",
    "import matplotlib.pyplot as plt\n",
    "import numpy as np\n",
    "\n",
    "from src.utils import set_project_name, set_run_name, validate_config, get_resume_params\n",
    "from src.data import data_factory, data_postfactory\n",
    "from src.dataloader import dataloader_factory, cross_validation_split\n",
    "from src.model import model_config_factory, model_factory"
   ]
  },
  {
   "cell_type": "code",
   "execution_count": 39,
   "metadata": {},
   "outputs": [],
   "source": [
    "def load_model_and_data(path):\n",
    "    cfg = OmegaConf.load(path+'/general_config.yaml')\n",
    "\n",
    "    df = pd.read_csv(path+'/runs.csv')\n",
    "    best_idx = df[\"test_score\"].idxmax()\n",
    "    k = best_idx // cfg.mode.n_trials\n",
    "    trial = best_idx - cfg.mode.n_trials * k\n",
    "    print(\"k \", k)\n",
    "    print(\"trial \", trial)\n",
    "\n",
    "    original_data = data_factory(cfg)\n",
    "    model_cfg = model_config_factory(cfg, k)\n",
    "    data = data_postfactory(\n",
    "            cfg,\n",
    "            model_cfg,\n",
    "            original_data,\n",
    "        )\n",
    "    dataloaders = dataloader_factory(cfg, data, k=k, trial=trial)\n",
    "\n",
    "    model = model_factory(cfg, model_cfg)\n",
    "\n",
    "    model_logpath = path+f\"/k_{k:02d}/trial_{trial:04d}/best_model.pt\"\n",
    "    checkpoint = torch.load(\n",
    "        model_logpath, map_location=lambda storage, loc: storage\n",
    "    )\n",
    "    model.load_state_dict(checkpoint)\n",
    "\n",
    "    return model, dataloaders"
   ]
  },
  {
   "cell_type": "markdown",
   "metadata": {},
   "source": [
    "# Introspection"
   ]
  },
  {
   "cell_type": "code",
   "execution_count": 174,
   "metadata": {},
   "outputs": [],
   "source": [
    "class Introspector:\n",
    "    \"\"\"Basic introspector\"\"\"\n",
    "\n",
    "    def __init__(self, model, features, labels, methods, save_path) -> None:\n",
    "        self.methods = methods\n",
    "        self.save_path = save_path\n",
    "        self.model = model\n",
    "\n",
    "        self.features = features\n",
    "        self.labels = labels\n",
    "\n",
    "        if \"saliency\" in self.methods:\n",
    "            os.makedirs(f\"{self.save_path}saliency/colormap\", exist_ok=True)\n",
    "            os.makedirs(f\"{self.save_path}saliency/barchart\", exist_ok=True)\n",
    "        if \"ig\" in self.methods:\n",
    "            os.makedirs(f\"{self.save_path}ig/colormap\", exist_ok=True)\n",
    "            os.makedirs(f\"{self.save_path}ig/barchart\", exist_ok=True)\n",
    "        if \"ignt\" in self.methods:\n",
    "            os.makedirs(f\"{self.save_path}ignt/colormap\", exist_ok=True)\n",
    "            os.makedirs(f\"{self.save_path}ignt/barchart\", exist_ok=True)\n",
    "\n",
    "\n",
    "    def run(self, cutoff=1, percentile=0.9):\n",
    "        \"\"\"Run introspection, save results\"\"\"\n",
    "        targets = torch.unique(self.labels)\n",
    "        for method in self.methods:\n",
    "            for target in targets:\n",
    "                filter_array = self.labels == target\n",
    "                features = self.features[filter_array]\n",
    "                features.requires_grad = True\n",
    "\n",
    "                grads = self.get_grads(method, features, target)\n",
    "                grads = grads.cpu().detach().numpy()\n",
    "                detached_features = features.cpu().detach().numpy()\n",
    "                \n",
    "                print(f\"\\tPlotting generalized saliency maps using '{method}' with target {target}\")\n",
    "                self.plot_colormaps(\n",
    "                    grads,\n",
    "                    detached_features, \n",
    "                    filepath=f\"{self.save_path}{method}/colormap/general_{target}.png\",\n",
    "                    color=\"blue\" if target == 0 else \"red\"\n",
    "                )\n",
    "\n",
    "                self.plot_histograms(\n",
    "                    grads, \n",
    "                    filepath=f\"{self.save_path}{method}/barchart/general_{target}.png\",\n",
    "                    percentile=percentile\n",
    "                )\n",
    "\n",
    "                print(f\"\\tPlotting single sample saliency maps using '{method}' with target {target}\")\n",
    "                for i in range(cutoff):\n",
    "                    feature = detached_features[i][np.newaxis, :, :]\n",
    "                    grad = grads[i][np.newaxis, :, :]\n",
    "\n",
    "                    self.plot_colormaps(\n",
    "                        grad,\n",
    "                        feature, \n",
    "                        filepath=f\"{self.save_path}{method}/colormap/target_{target}_idx_{i:04d}.png\",\n",
    "                        color=\"blue\" if target == 0 else \"red\"\n",
    "                    )\n",
    "\n",
    "                    self.plot_histograms(\n",
    "                        grad, \n",
    "                        filepath=f\"{self.save_path}{method}/barchart/target_{target}_idx_{i:04d}.png\",\n",
    "                        percentile=percentile\n",
    "                    )\n",
    "\n",
    "    def plot_colormaps(self, grads, features, filepath, color):\n",
    "\n",
    "        # plot colormaps\n",
    "        fig, axs = plt.subplots(1, 1, figsize=(13, 5))\n",
    "        _ = viz.visualize_image_attr(\n",
    "            np.transpose(grads, (2, 1, 0)),\n",
    "            np.transpose(features, (2, 1, 0)),\n",
    "            method=\"heat_map\",\n",
    "            cmap=\"inferno\",\n",
    "            show_colorbar=False,\n",
    "            plt_fig_axis=(fig, axs),\n",
    "            use_pyplot=False,\n",
    "        )\n",
    "        plt.savefig(\n",
    "            filepath,\n",
    "            format=\"png\",\n",
    "            dpi=300,\n",
    "            bbox_inches=\"tight\",\n",
    "        )\n",
    "        plt.close()\n",
    "\n",
    "    def plot_histograms(self, grads, filepath, percentile=0.9, color=\"blue\"):\n",
    "        # bar charts: summarizes gradients at each component\n",
    "        data = np.sum(grads, axis=(0, 1))\n",
    "        sorted_indices = np.argsort(np.abs(data))\n",
    "        percentile = int(sorted_indices.shape[0] * percentile)\n",
    "        data[sorted_indices[:-percentile]] = 0\n",
    "        plt.bar(\n",
    "            range(grads.shape[2]),\n",
    "            data,\n",
    "            align=\"center\",\n",
    "            color=color,\n",
    "        )\n",
    "        plt.xlim([0, grads.shape[2]])\n",
    "        plt.grid(False)\n",
    "\n",
    "        plt.savefig(\n",
    "            filepath,\n",
    "            format=\"png\",\n",
    "            dpi=300,\n",
    "            bbox_inches=\"tight\",\n",
    "        )\n",
    "        plt.close()\n",
    "    \n",
    "    def get_grads(self, method, features, target):\n",
    "        \"\"\"Returns gradients according to method\"\"\"\n",
    "        if method == \"saliency\":\n",
    "            saliency = Saliency(self.model)\n",
    "            self.model.zero_grad()\n",
    "            grads = saliency.attribute(features, target=target)\n",
    "        elif method == \"ig\":\n",
    "            ig = IntegratedGradients(self.model)\n",
    "            self.model.zero_grad()\n",
    "            grads, _ = ig.attribute(\n",
    "                inputs=features,\n",
    "                target=target,\n",
    "                baselines=torch.zeros_like(features),\n",
    "                return_convergence_delta=True,\n",
    "            )\n",
    "        elif method == \"ignt\":\n",
    "            ig = IntegratedGradients(self.model)\n",
    "            nt = NoiseTunnel(ig)\n",
    "            self.model.zero_grad()\n",
    "            grads, _ = nt.attribute(\n",
    "                inputs=features,\n",
    "                target=target,\n",
    "                baselines=torch.zeros_like(features),\n",
    "                return_convergence_delta=True,\n",
    "                nt_type=\"smoothgrad_sq\",\n",
    "                nt_samples=5,\n",
    "                stdevs=0.2,\n",
    "            )\n",
    "        else:\n",
    "            raise ValueError(f\"'{method}' methods is not recognized\")\n",
    "\n",
    "        return grads"
   ]
  },
  {
   "cell_type": "markdown",
   "metadata": {},
   "source": [
    "# Do stuff"
   ]
  },
  {
   "cell_type": "code",
   "execution_count": 156,
   "metadata": {},
   "outputs": [
    {
     "name": "stdout",
     "output_type": "stream",
     "text": [
      "k  3\n",
      "trial  7\n",
      "Loaded model config:\n",
      "dropout: 0.11\n",
      "hidden_size: 150\n",
      "num_layers: 0\n",
      "lr: 0.00027\n",
      "input_size: 53\n",
      "output_size: 2\n",
      "\n"
     ]
    }
   ],
   "source": [
    "path = \"./assets/logs/rerun_all-exp-mlp_defHP-fbirn\"\n",
    "model, data = load_model_and_data(path)\n",
    "\n",
    "dataset = data[\"test\"].dataset\n",
    "features = [sample[0] for sample in dataset]\n",
    "labels = [sample[1] for sample in dataset]\n",
    "\n",
    "load_only_test = True\n",
    "if not load_only_test:\n",
    "    dataset = data[\"test\"].dataset\n",
    "    for sample in dataset:\n",
    "        features.append(sample[0])\n",
    "        labels.append(sample[1])\n",
    "\n",
    "features = torch.stack(features)\n",
    "labels = torch.stack(labels)"
   ]
  },
  {
   "cell_type": "code",
   "execution_count": 175,
   "metadata": {},
   "outputs": [
    {
     "name": "stdout",
     "output_type": "stream",
     "text": [
      "\tPlotting generalized saliency maps using 'saliency' with target 0\n",
      "\tPlotting single sample saliency maps using 'saliency' with target 0\n",
      "\tPlotting generalized saliency maps using 'saliency' with target 1\n",
      "\tPlotting single sample saliency maps using 'saliency' with target 1\n",
      "\tPlotting generalized saliency maps using 'ig' with target 0\n",
      "\tPlotting single sample saliency maps using 'ig' with target 0\n",
      "\tPlotting generalized saliency maps using 'ig' with target 1\n",
      "\tPlotting single sample saliency maps using 'ig' with target 1\n",
      "\tPlotting generalized saliency maps using 'ignt' with target 0\n",
      "\tPlotting single sample saliency maps using 'ignt' with target 0\n",
      "\tPlotting generalized saliency maps using 'ignt' with target 1\n",
      "\tPlotting single sample saliency maps using 'ignt' with target 1\n"
     ]
    }
   ],
   "source": [
    "methods = [\"saliency\", \"ig\", \"ignt\"]\n",
    "introspector = Introspector(model=model, features=features, labels=labels, methods=methods, save_path=\"./introspection/\")\n",
    "introspector.run()"
   ]
  }
 ],
 "metadata": {
  "kernelspec": {
   "display_name": "mlp_nn",
   "language": "python",
   "name": "python3"
  },
  "language_info": {
   "codemirror_mode": {
    "name": "ipython",
    "version": 3
   },
   "file_extension": ".py",
   "mimetype": "text/x-python",
   "name": "python",
   "nbconvert_exporter": "python",
   "pygments_lexer": "ipython3",
   "version": "3.9.16"
  },
  "orig_nbformat": 4
 },
 "nbformat": 4,
 "nbformat_minor": 2
}
